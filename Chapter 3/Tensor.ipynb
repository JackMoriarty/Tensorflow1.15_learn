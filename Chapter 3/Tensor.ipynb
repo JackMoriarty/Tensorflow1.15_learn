{
 "cells": [
  {
   "cell_type": "code",
   "execution_count": 2,
   "metadata": {},
   "outputs": [
    {
     "name": "stdout",
     "output_type": "stream",
     "text": [
      "[<tf.Tensor 'Const:0' shape=() dtype=float32>, <tf.Tensor 'Const_1:0' shape=() dtype=float32>, <tf.Tensor 'Add:0' shape=() dtype=float32>]\n",
      "WARNING:tensorflow:From /tmp/ipykernel_256635/1850567487.py:7: The name tf.Session is deprecated. Please use tf.compat.v1.Session instead.\n",
      "\n",
      "3.0\n",
      "[1.0, 2.0, 3.0]\n"
     ]
    },
    {
     "name": "stderr",
     "output_type": "stream",
     "text": [
      "2022-03-28 22:13:17.724250: I tensorflow/stream_executor/platform/default/dso_loader.cc:44] Successfully opened dynamic library libcuda.so.1\n",
      "2022-03-28 22:13:17.950216: E tensorflow/stream_executor/cuda/cuda_driver.cc:318] failed call to cuInit: CUDA_ERROR_NO_DEVICE: no CUDA-capable device is detected\n",
      "2022-03-28 22:13:17.950284: I tensorflow/stream_executor/cuda/cuda_diagnostics.cc:156] kernel driver does not appear to be running on this host (LACIA): /proc/driver/nvidia/version does not exist\n",
      "2022-03-28 22:13:17.951871: I tensorflow/core/platform/cpu_feature_guard.cc:142] Your CPU supports instructions that this TensorFlow binary was not compiled to use: SSE4.1 SSE4.2 AVX AVX2 FMA\n",
      "2022-03-28 22:13:17.961992: I tensorflow/core/platform/profile_utils/cpu_utils.cc:94] CPU Frequency: 1800500000 Hz\n",
      "2022-03-28 22:13:17.962616: I tensorflow/compiler/xla/service/service.cc:168] XLA service 0x56289765ee50 initialized for platform Host (this does not guarantee that XLA will be used). Devices:\n",
      "2022-03-28 22:13:17.962669: I tensorflow/compiler/xla/service/service.cc:176]   StreamExecutor device (0): Host, Default Version\n"
     ]
    }
   ],
   "source": [
    "import tensorflow as tf\n",
    "\n",
    "a = tf.constant(1.0)\n",
    "b = tf.constant(2.0)\n",
    "c = tf.add(a, b)\n",
    "print([a, b, c])\n",
    "with tf.Session() as sess:\n",
    "    print(c.eval())\n",
    "    print(sess.run([a, b, c]))"
   ]
  },
  {
   "cell_type": "code",
   "execution_count": 7,
   "metadata": {},
   "outputs": [
    {
     "name": "stdout",
     "output_type": "stream",
     "text": [
      "a[0]=1, a[1]=1\n",
      "c.name=Add_5:0\n",
      "c.value=[3 3]\n",
      "c.shape=(2,)\n",
      "a.consumers=[<tf.Operation 'Add_5' type=Add>, <tf.Operation 'strided_slice_8' type=StridedSlice>, <tf.Operation 'strided_slice_9' type=StridedSlice>]\n",
      "b.consumers=[<tf.Operation 'Add_5' type=Add>] \n",
      "[c.op]:\n",
      "name: \"Add_5\"\n",
      "op: \"Add\"\n",
      "input: \"Const_10\"\n",
      "input: \"Const_11\"\n",
      "attr {\n",
      "  key: \"T\"\n",
      "  value {\n",
      "    type: DT_INT32\n",
      "  }\n",
      "}\n",
      "\n"
     ]
    }
   ],
   "source": [
    "import tensorflow as tf\n",
    "\n",
    "a = tf.constant([1, 1])\n",
    "b = tf.constant([2, 2])\n",
    "c = tf.add(a, b)\n",
    "with tf.Session() as sess:\n",
    "    print(\"a[0]=%s, a[1]=%s\" % (a[0].eval(), a[1].eval()))\n",
    "    print(\"c.name=%s\" % c.name)\n",
    "    print(\"c.value=%s\" % c.eval())\n",
    "    print(\"c.shape=%s\" % c.shape)\n",
    "    print(\"a.consumers=%s\" % a.consumers())\n",
    "    print(\"b.consumers=%s \"% b.consumers())\n",
    "    print(\"[c.op]:\\n%s\" % c.op)\n"
   ]
  }
 ],
 "metadata": {
  "interpreter": {
   "hash": "767d51c1340bd893661ea55ea3124f6de3c7a262a8b4abca0554b478b1e2ff90"
  },
  "kernelspec": {
   "display_name": "Python 3.10.3 64-bit",
   "language": "python",
   "name": "python3"
  },
  "language_info": {
   "codemirror_mode": {
    "name": "ipython",
    "version": 3
   },
   "file_extension": ".py",
   "mimetype": "text/x-python",
   "name": "python",
   "nbconvert_exporter": "python",
   "pygments_lexer": "ipython3",
   "version": "3.7.11"
  },
  "orig_nbformat": 4
 },
 "nbformat": 4,
 "nbformat_minor": 2
}
