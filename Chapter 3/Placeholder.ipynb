{
 "cells": [
  {
   "cell_type": "code",
   "execution_count": 4,
   "metadata": {},
   "outputs": [
    {
     "name": "stdout",
     "output_type": "stream",
     "text": [
      "[[0.4012974  0.32152057]\n",
      " [0.34102932 0.40391803]]\n"
     ]
    }
   ],
   "source": [
    "import tensorflow as tf\n",
    "import numpy as np\n",
    "\n",
    "with tf.name_scope(\"PlaceholderExample\"):\n",
    "    x = tf.placeholder(tf.float32, shape=(2,2, ), name=\"x\")\n",
    "    y = tf.matmul(x, x, name=\"matmul\")\n",
    "    with tf.Session( )as sess:\n",
    "        rand_array = np.random.rand(2, 2)\n",
    "        print(sess.run(y, feed_dict={x: rand_array}))\n"
   ]
  },
  {
   "cell_type": "code",
   "execution_count": 7,
   "metadata": {},
   "outputs": [
    {
     "name": "stdout",
     "output_type": "stream",
     "text": [
      "3.0\n",
      "3.0\n",
      "3.0\n"
     ]
    }
   ],
   "source": [
    "import tensorflow as tf\n",
    "import numpy as np\n",
    "\n",
    "# 没有显示指定数据形状，表示可以填充任意形状的单精度浮点数稀疏张量\n",
    "x = tf.sparse_placeholder(tf.float32)\n",
    "y = tf.sparse_reduce_sum(x)\n",
    "\n",
    "with tf.Session() as sess:\n",
    "    # 设置非零元素的索引为[3, 2, 0]和[4, 5, 1]\n",
    "    indices = np.array([[3, 2, 0], [4, 5, 1]], dtype=np.int64)\n",
    "    # 设置索引为[3, 2, 0]和[4, 5, 1]的元素的职位1.0和2.0\n",
    "    values = np.array([1.0, 2.0], dtype=np.float32)\n",
    "    # 设置稀疏张量对应的稠密张量形状为[7, 9, 2]\n",
    "    shape = np.array([7, 9, 2], dtype=np.int64)\n",
    "    # 向x填充稀疏张量\n",
    "    print(sess.run(y, feed_dict={\n",
    "        x: tf.SparseTensorValue(indices, values, shape)}))\n",
    "    # 向x填充张量三元组(indices, values, shape)\n",
    "    print(sess.run(y, feed_dict={x: (indices, values, shape)}))\n",
    "    # 向x填充NumPy多维数组\n",
    "    sp = tf.SparseTensor(indices=indices, values=values, dense_shape=shape)\n",
    "    sp_value = sp.eval()\n",
    "    print(sess.run(y, feed_dict={x: sp_value}))"
   ]
  }
 ],
 "metadata": {
  "interpreter": {
   "hash": "c6fea2ffbba39ecb92661f5ee26c1ddcbda0e49edb0ce0c7def9d4b6aa500e57"
  },
  "kernelspec": {
   "display_name": "Python 3.7.11 ('tensorflow1.15.0')",
   "language": "python",
   "name": "python3"
  },
  "language_info": {
   "codemirror_mode": {
    "name": "ipython",
    "version": 3
   },
   "file_extension": ".py",
   "mimetype": "text/x-python",
   "name": "python",
   "nbconvert_exporter": "python",
   "pygments_lexer": "ipython3",
   "version": "3.7.11"
  },
  "orig_nbformat": 4
 },
 "nbformat": 4,
 "nbformat_minor": 2
}
