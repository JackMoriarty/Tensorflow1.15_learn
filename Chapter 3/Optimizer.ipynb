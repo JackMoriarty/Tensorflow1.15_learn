{
 "cells": [
  {
   "cell_type": "code",
   "execution_count": 1,
   "metadata": {},
   "outputs": [
    {
     "name": "stdout",
     "output_type": "stream",
     "text": [
      "WARNING:tensorflow:From /tmp/ipykernel_357682/726910155.py:25: The name tf.placeholder is deprecated. Please use tf.compat.v1.placeholder instead.\n",
      "\n",
      "WARNING:tensorflow:From /tmp/ipykernel_357682/726910155.py:27: The name tf.random_normal is deprecated. Please use tf.random.normal instead.\n",
      "\n",
      "WARNING:tensorflow:From /tmp/ipykernel_357682/726910155.py:40: The name tf.train.GradientDescentOptimizer is deprecated. Please use tf.compat.v1.train.GradientDescentOptimizer instead.\n",
      "\n",
      "WARNING:tensorflow:From /home/moriarty/.conda/envs/tensorflow1.15.0/lib/python3.7/site-packages/tensorflow_core/python/ops/math_grad.py:1375: where (from tensorflow.python.ops.array_ops) is deprecated and will be removed in a future version.\n",
      "Instructions for updating:\n",
      "Use tf.where in 2.0, which has the same broadcast rule as np.where\n",
      "WARNING:tensorflow:From /tmp/ipykernel_357682/726910155.py:47: The name tf.Session is deprecated. Please use tf.compat.v1.Session instead.\n",
      "\n",
      "WARNING:tensorflow:From /tmp/ipykernel_357682/726910155.py:49: The name tf.global_variables_initializer is deprecated. Please use tf.compat.v1.global_variables_initializer instead.\n",
      "\n"
     ]
    },
    {
     "name": "stderr",
     "output_type": "stream",
     "text": [
      "2022-03-30 00:18:24.482241: I tensorflow/stream_executor/platform/default/dso_loader.cc:44] Successfully opened dynamic library libcuda.so.1\n",
      "2022-03-30 00:18:24.726636: E tensorflow/stream_executor/cuda/cuda_driver.cc:318] failed call to cuInit: CUDA_ERROR_NO_DEVICE: no CUDA-capable device is detected\n",
      "2022-03-30 00:18:24.726706: I tensorflow/stream_executor/cuda/cuda_diagnostics.cc:156] kernel driver does not appear to be running on this host (LACIA): /proc/driver/nvidia/version does not exist\n",
      "2022-03-30 00:18:24.728714: I tensorflow/core/platform/cpu_feature_guard.cc:142] Your CPU supports instructions that this TensorFlow binary was not compiled to use: SSE4.1 SSE4.2 AVX AVX2 FMA\n",
      "2022-03-30 00:18:24.739242: I tensorflow/core/platform/profile_utils/cpu_utils.cc:94] CPU Frequency: 1800500000 Hz\n",
      "2022-03-30 00:18:24.740000: I tensorflow/compiler/xla/service/service.cc:168] XLA service 0x564724e7dc40 initialized for platform Host (this does not guarantee that XLA will be used). Devices:\n",
      "2022-03-30 00:18:24.740044: I tensorflow/compiler/xla/service/service.cc:176]   StreamExecutor device (0): Host, Default Version\n"
     ]
    },
    {
     "name": "stdout",
     "output_type": "stream",
     "text": [
      "Start training\n",
      "Step:0, loss==0.7923, W==0.2278, b==0.1504\n",
      "Step:100, loss==0.1843, W==0.3216, b==0.3028\n",
      "Step:200, loss==0.1726, W==0.3065, b==0.4098\n",
      "Step:300, loss==0.1654, W==0.2947, b==0.4938\n",
      "Step:400, loss==0.1609, W==0.2854, b==0.5596\n",
      "Step:500, loss==0.1582, W==0.2781, b==0.6112\n",
      "Step:600, loss==0.1565, W==0.2724, b==0.6517\n",
      "Step:700, loss==0.1555, W==0.2679, b==0.6834\n",
      "Step:800, loss==0.1549, W==0.2644, b==0.7083\n",
      "Step:900, loss==0.1545, W==0.2616, b==0.7278\n",
      "Step:1000, loss==0.1542, W==0.2595, b==0.7430\n",
      "Linear Regression Model: Y==0.2595*X+0.7430\n"
     ]
    },
    {
     "data": {
      "image/png": "[encoded data removed]",
      "text/plain": [
       "<Figure size 432x288 with 1 Axes>"
      ]
     },
     "metadata": {
      "needs_background": "light"
     },
     "output_type": "display_data"
    }
   ],
   "source": [
    "import tensorflow as tf\n",
    "import numpy as np\n",
    "from matplotlib import pyplot as plt \n",
    "\n",
    "# 超参数\n",
    "# 学习率\n",
    "learning_rate = 0.01\n",
    "# 最大训练步数\n",
    "max_train_steps = 1000\n",
    "# 日志打印间隔\n",
    "log_step = 100\n",
    "\n",
    "# 输入数据\n",
    "# 构造训练数据\n",
    "train_X = np.array([[3.3], [4.4], [5.5], [6.71], [6.93], [4.168], [9.779],\n",
    "                    [6.182], [7.59], [2.167], [7.042], [10.791], [5.313],\n",
    "                    [7.997], [5.654], [9.27], [3.1]], dtype=np.float32)\n",
    "train_Y = np.array([[1.7], [2.76], [2.09], [3.19], [1.694], [1.573], [3.366],\n",
    "                    [2.596], [2.53], [1.221], [2.827], [3.465], [1.65],\n",
    "                    [2.904], [2.42], [2.94], [1.3]], dtype=np.float32)\n",
    "total_samples = train_X.shape[0]\n",
    "\n",
    "# 构建模型\n",
    "# 输入数据\n",
    "X = tf.placeholder(tf.float32, [None, 1])\n",
    "# 模型参数\n",
    "W = tf.Variable(tf.random_normal([1, 1]), name = \"weight\")\n",
    "b = tf.Variable(tf.zeros([1]), name=\"bias\")\n",
    "# 推理值\n",
    "Y = tf.matmul(X, W) + b\n",
    "\n",
    "# 定义损失函数\n",
    "# 实际值\n",
    "Y_ = tf.placeholder(tf.float32, [None, 1])\n",
    "# 均方差\n",
    "loss = tf.reduce_sum(tf.pow(Y-Y_, 2)) / (total_samples)\n",
    "\n",
    "# 创建优化器\n",
    "# 随机梯度下降\n",
    "optimizer = tf.train.GradientDescentOptimizer(learning_rate)\n",
    "\n",
    "# 定义单步训练操作\n",
    "# 最小化损失值\n",
    "train_op = optimizer.minimize(loss)\n",
    "\n",
    "# 创建会话\n",
    "with tf.Session() as sess:\n",
    "    # 初始化全局变量\n",
    "    sess.run(tf.global_variables_initializer())\n",
    "    # 迭代训练\n",
    "    print(\"Start training\")\n",
    "    for step in range(max_train_steps):\n",
    "        sess.run(train_op, feed_dict={X: train_X, Y_:train_Y})\n",
    "        # 每隔log_step步打印一次日志\n",
    "        if step % log_step == 0:\n",
    "            c = sess.run(loss, feed_dict={X: train_X, Y_:train_Y})\n",
    "            print(\"Step:%d, loss==%.4f, W==%.4f, b==%.4f\" %\n",
    "                (step, c, sess.run(W), sess.run(b)))\n",
    "    # 计算训练完毕的模型在训练集上的损失值，并将其作为指标输出\n",
    "    final_loss = sess.run(loss, feed_dict={X: train_X, Y_:train_Y})\n",
    "    # 计算训练完毕的模型参数W和b\n",
    "    weight, bias = sess.run([W, b])\n",
    "    print(\"Step:%d, loss==%.4f, W==%.4f, b==%.4f\" %\n",
    "                (max_train_steps, final_loss, sess.run(W), sess.run(b)))\n",
    "    print(\"Linear Regression Model: Y==%.4f*X+%.4f\" % (weight, bias))\n",
    "\n",
    "# 模型可视化\n",
    "# 初始化matplotlib后端\n",
    "# %matplotlib\n",
    "# 根据训练数据X和Y，添加对应的红色圆点\n",
    "plt.plot(train_X, train_Y, 'ro', label='Training data')\n",
    "# 根据模型参数和训练数据，添加蓝色(默认色)拟合直线\n",
    "plt.plot(train_X, weight * train_X + bias, label='Fitted line')\n",
    "# 添加图例说明\n",
    "plt.legend()\n",
    "# 绘制图形\n",
    "plt.show()\n"
   ]
  }
 ],
 "metadata": {
  "interpreter": {
   "hash": "c6fea2ffbba39ecb92661f5ee26c1ddcbda0e49edb0ce0c7def9d4b6aa500e57"
  },
  "kernelspec": {
   "display_name": "Python 3.7.11 ('tensorflow1.15.0')",
   "language": "python",
   "name": "python3"
  },
  "language_info": {
   "codemirror_mode": {
    "name": "ipython",
    "version": 3
   },
   "file_extension": ".py",
   "mimetype": "text/x-python",
   "name": "python",
   "nbconvert_exporter": "python",
   "pygments_lexer": "ipython3",
   "version": "3.7.11"
  },
  "orig_nbformat": 4
 },
 "nbformat": 4,
 "nbformat_minor": 2
}
