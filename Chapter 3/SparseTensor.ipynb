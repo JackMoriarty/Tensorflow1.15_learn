{
 "cells": [
  {
   "cell_type": "code",
   "execution_count": 7,
   "metadata": {},
   "outputs": [
    {
     "name": "stdout",
     "output_type": "stream",
     "text": [
      "SparseTensorValue(indices=array([[0, 2],\n",
      "       [1, 3]]), values=array([1, 2], dtype=int32), dense_shape=array([3, 4]))\n"
     ]
    }
   ],
   "source": [
    "import tensorflow as tf\n",
    "\n",
    "sp = tf.SparseTensor(indices=[[0, 2], [1, 3]], values=[1, 2], dense_shape=[3, 4])\n",
    "with tf.Session() as session:\n",
    "    print(sp.eval())"
   ]
  },
  {
   "cell_type": "code",
   "execution_count": 8,
   "metadata": {},
   "outputs": [
    {
     "name": "stdout",
     "output_type": "stream",
     "text": [
      "[3, array([2, 1], dtype=int32), array([[2],\n",
      "       [1]], dtype=int32), 3]\n"
     ]
    }
   ],
   "source": [
    "import tensorflow as tf\n",
    "\n",
    "x = tf.SparseTensor(indices=[[0, 0], [0, 2], [1, 1]], values=[1, 1, 1], dense_shape=[2, 3])\n",
    "reduce_x = [tf.sparse_reduce_sum(x),\n",
    "            tf.sparse_reduce_sum(x, axis=1),\n",
    "            tf.sparse_reduce_sum(x, axis=1, keep_dims=True),\n",
    "            tf.sparse_reduce_sum(x, axis=[0, 1])]\n",
    "with tf.Session() as sess:\n",
    "    print(sess.run(reduce_x))"
   ]
  }
 ],
 "metadata": {
  "interpreter": {
   "hash": "c6fea2ffbba39ecb92661f5ee26c1ddcbda0e49edb0ce0c7def9d4b6aa500e57"
  },
  "kernelspec": {
   "display_name": "Python 3.7.11 ('tensorflow1.15.0')",
   "language": "python",
   "name": "python3"
  },
  "language_info": {
   "codemirror_mode": {
    "name": "ipython",
    "version": 3
   },
   "file_extension": ".py",
   "mimetype": "text/x-python",
   "name": "python",
   "nbconvert_exporter": "python",
   "pygments_lexer": "ipython3",
   "version": "3.7.11"
  },
  "orig_nbformat": 4
 },
 "nbformat": 4,
 "nbformat_minor": 2
}
