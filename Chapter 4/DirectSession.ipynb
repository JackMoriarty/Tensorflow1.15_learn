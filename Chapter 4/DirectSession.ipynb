{
 "cells": [
  {
   "cell_type": "code",
   "execution_count": 1,
   "metadata": {},
   "outputs": [
    {
     "name": "stdout",
     "output_type": "stream",
     "text": [
      "WARNING:tensorflow:From /tmp/ipykernel_95352/2017155455.py:16: read_data_sets (from tensorflow.contrib.learn.python.learn.datasets.mnist) is deprecated and will be removed in a future version.\n",
      "Instructions for updating:\n",
      "Please use alternatives such as official/mnist/dataset.py from tensorflow/models.\n",
      "WARNING:tensorflow:From /home/moriarty/.conda/envs/tensorflow1.15.0/lib/python3.7/site-packages/tensorflow_core/contrib/learn/python/learn/datasets/mnist.py:260: maybe_download (from tensorflow.contrib.learn.python.learn.datasets.base) is deprecated and will be removed in a future version.\n",
      "Instructions for updating:\n",
      "Please write your own downloading logic.\n",
      "WARNING:tensorflow:From /home/moriarty/.conda/envs/tensorflow1.15.0/lib/python3.7/site-packages/tensorflow_core/contrib/learn/python/learn/datasets/mnist.py:262: extract_images (from tensorflow.contrib.learn.python.learn.datasets.mnist) is deprecated and will be removed in a future version.\n",
      "Instructions for updating:\n",
      "Please use tf.data to implement this functionality.\n",
      "Extracting ./mnist-data/train-images-idx3-ubyte.gz\n",
      "WARNING:tensorflow:From /home/moriarty/.conda/envs/tensorflow1.15.0/lib/python3.7/site-packages/tensorflow_core/contrib/learn/python/learn/datasets/mnist.py:267: extract_labels (from tensorflow.contrib.learn.python.learn.datasets.mnist) is deprecated and will be removed in a future version.\n",
      "Instructions for updating:\n",
      "Please use tf.data to implement this functionality.\n",
      "Extracting ./mnist-data/train-labels-idx1-ubyte.gz\n",
      "WARNING:tensorflow:From /home/moriarty/.conda/envs/tensorflow1.15.0/lib/python3.7/site-packages/tensorflow_core/contrib/learn/python/learn/datasets/mnist.py:110: dense_to_one_hot (from tensorflow.contrib.learn.python.learn.datasets.mnist) is deprecated and will be removed in a future version.\n",
      "Instructions for updating:\n",
      "Please use tf.one_hot on tensors.\n",
      "Extracting ./mnist-data/t10k-images-idx3-ubyte.gz\n",
      "Extracting ./mnist-data/t10k-labels-idx1-ubyte.gz\n",
      "WARNING:tensorflow:From /home/moriarty/.conda/envs/tensorflow1.15.0/lib/python3.7/site-packages/tensorflow_core/contrib/learn/python/learn/datasets/mnist.py:290: DataSet.__init__ (from tensorflow.contrib.learn.python.learn.datasets.mnist) is deprecated and will be removed in a future version.\n",
      "Instructions for updating:\n",
      "Please use alternatives such as official/mnist/dataset.py from tensorflow/models.\n",
      "WARNING:tensorflow:From /tmp/ipykernel_95352/2017155455.py:18: The name tf.placeholder is deprecated. Please use tf.compat.v1.placeholder instead.\n",
      "\n",
      "WARNING:tensorflow:From /tmp/ipykernel_95352/2017155455.py:24: The name tf.log is deprecated. Please use tf.math.log instead.\n",
      "\n",
      "WARNING:tensorflow:From /tmp/ipykernel_95352/2017155455.py:27: The name tf.train.GradientDescentOptimizer is deprecated. Please use tf.compat.v1.train.GradientDescentOptimizer instead.\n",
      "\n",
      "WARNING:tensorflow:From /tmp/ipykernel_95352/2017155455.py:32: The name tf.train.Saver is deprecated. Please use tf.compat.v1.train.Saver instead.\n",
      "\n",
      "WARNING:tensorflow:From /tmp/ipykernel_95352/2017155455.py:33: The name tf.InteractiveSession is deprecated. Please use tf.compat.v1.InteractiveSession instead.\n",
      "\n"
     ]
    },
    {
     "name": "stderr",
     "output_type": "stream",
     "text": [
      "2022-03-31 23:09:19.192571: I tensorflow/core/platform/cpu_feature_guard.cc:142] Your CPU supports instructions that this TensorFlow binary was not compiled to use: SSE4.1 SSE4.2 AVX AVX2 FMA\n",
      "2022-03-31 23:09:19.213737: I tensorflow/core/platform/profile_utils/cpu_utils.cc:94] CPU Frequency: 1800500000 Hz\n",
      "2022-03-31 23:09:19.214475: I tensorflow/compiler/xla/service/service.cc:168] XLA service 0x55a40970bd80 initialized for platform Host (this does not guarantee that XLA will be used). Devices:\n",
      "2022-03-31 23:09:19.214523: I tensorflow/compiler/xla/service/service.cc:176]   StreamExecutor device (0): Host, Default Version\n",
      "2022-03-31 23:09:19.218060: I tensorflow/stream_executor/platform/default/dso_loader.cc:44] Successfully opened dynamic library libcuda.so.1\n"
     ]
    },
    {
     "name": "stdout",
     "output_type": "stream",
     "text": [
      "WARNING:tensorflow:From /tmp/ipykernel_95352/2017155455.py:34: The name tf.global_variables_initializer is deprecated. Please use tf.compat.v1.global_variables_initializer instead.\n",
      "\n"
     ]
    },
    {
     "name": "stderr",
     "output_type": "stream",
     "text": [
      "2022-03-31 23:09:19.634843: E tensorflow/stream_executor/cuda/cuda_driver.cc:318] failed call to cuInit: CUDA_ERROR_NO_DEVICE: no CUDA-capable device is detected\n",
      "2022-03-31 23:09:19.634931: I tensorflow/stream_executor/cuda/cuda_diagnostics.cc:156] kernel driver does not appear to be running on this host (LACIA): /proc/driver/nvidia/version does not exist\n"
     ]
    },
    {
     "name": "stdout",
     "output_type": "stream",
     "text": [
      "acc=0.9071\n"
     ]
    },
    {
     "name": "stderr",
     "output_type": "stream",
     "text": [
      "2022-03-31 23:09:23.137015: W tensorflow/core/framework/cpu_allocator_impl.cc:81] Allocation of 31360000 exceeds 10% of system memory.\n"
     ]
    }
   ],
   "source": [
    "# -*- coding: utf-8 -*-\n",
    "from tensorflow.examples.tutorials.mnist import input_data\n",
    "import tensorflow as tf\n",
    "\n",
    "# flags = tf.app.flags\n",
    "# flags.DEFINE_string(\"data_dir\", \"/tmp/mnist-data\",\n",
    "#                     \"Directory for storing mnist data\")\n",
    "# flags.DEFINE_float(\"learning_rate\", 0.5, \"Learning rate\")\n",
    "# FLAGS = flags.FLAGS\n",
    "\n",
    "data_dir='./mnist-data'\n",
    "learning_rate = 0.5\n",
    "\n",
    "def main():\n",
    "    # 创建MNIST数据集实例\n",
    "    mnist = input_data.read_data_sets(data_dir, one_hot=True)\n",
    "    # 创建模型\n",
    "    x = tf.placeholder(tf.float32, [None, 784]) # 图像数据\n",
    "    W = tf.Variable(tf.zeros([784, 10]))\n",
    "    b = tf.Variable(tf.zeros([10]))\n",
    "    y = tf.nn.softmax(tf.matmul(x, W) + b)\n",
    "    y_ = tf.placeholder(tf.float32, [None, 10])\n",
    "    # 使用交叉熵作为损失值\n",
    "    cross_entropy = tf.reduce_mean(-tf.reduce_sum(y_*tf.log(tf.nn.softmax(y)),\n",
    "        reduction_indices=[1]))\n",
    "    # 创建梯度下降优化器\n",
    "    optimizer = tf.train.GradientDescentOptimizer(learning_rate)\n",
    "    # 定义单步训练操作\n",
    "    train_op = optimizer.minimize(cross_entropy)\n",
    "    \n",
    "    # 创建Saver\n",
    "    saver = tf.train.Saver()\n",
    "    sess = tf.InteractiveSession()\n",
    "    tf.global_variables_initializer().run()\n",
    "    # 最大训练步数\n",
    "    for i in range(1000):\n",
    "        batch_xs, batch_ys = mnist.train.next_batch(100)\n",
    "        sess.run(train_op, feed_dict={x: batch_xs, y_: batch_ys})\n",
    "        # 每100步保存一次模型参数\n",
    "        if i % 100 == 0:\n",
    "            saver.save(sess, './ckpt/DirectSessionMnist.ckpt')\n",
    "    correct_prediction = tf.equal(tf.argmax(y, 1), tf.argmax(y_, 1))\n",
    "    accuracy = tf.reduce_mean(tf.cast(correct_prediction, tf.float32))\n",
    "    print('acc=%s' % sess.run(accuracy, \n",
    "        feed_dict={x: mnist.test.images, y_: mnist.test.labels}))\n",
    "\n",
    "if __name__ == '__main__':\n",
    "    main()"
   ]
  }
 ],
 "metadata": {
  "interpreter": {
   "hash": "c6fea2ffbba39ecb92661f5ee26c1ddcbda0e49edb0ce0c7def9d4b6aa500e57"
  },
  "kernelspec": {
   "display_name": "Python 3.7.11 ('tensorflow1.15.0')",
   "language": "python",
   "name": "python3"
  },
  "language_info": {
   "codemirror_mode": {
    "name": "ipython",
    "version": 3
   },
   "file_extension": ".py",
   "mimetype": "text/x-python",
   "name": "python",
   "nbconvert_exporter": "python",
   "pygments_lexer": "ipython3",
   "version": "3.7.11"
  },
  "orig_nbformat": 4
 },
 "nbformat": 4,
 "nbformat_minor": 2
}
